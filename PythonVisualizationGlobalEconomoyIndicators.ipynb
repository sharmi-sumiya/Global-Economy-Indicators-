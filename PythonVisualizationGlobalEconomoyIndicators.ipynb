{
  "nbformat": 4,
  "nbformat_minor": 2,
  "metadata": {
    "language_info": {
      "name": "python"
    },
    "kernelspec": {
      "name": "synapse_pyspark",
      "display_name": "python"
    },
    "save_output": true,
    "synapse_widget": {
      "version": "0.1",
      "state": {}
    }
  },
  "cells": [
    {
      "cell_type": "markdown",
      "metadata": {
        "nteract": {
          "transient": {
            "deleting": false
          }
        }
      },
      "source": [
        "\r\n",
        "\r\n",
        ""
      ]
    },
    {
      "cell_type": "code",
      "execution_count": 12,
      "outputs": [],
      "metadata": {
        "microsoft": {
          "language": "python"
        },
        "collapsed": false
      },
      "source": [
        "%%pyspark\r\n",
        "df = spark.read.load(path='abfss://global-economy-indicators-data@globaleconomyindicators.dfs.core.windows.net/transformed-data/indicators/part-00000-tid-8109756532729835153-e7d859b9-b48c-4a03-97c5-1c9192507ce4-6-1-c000.csv', format='csv',header=True)\r\n",
        "display(df.limit (10))   \r\n",
        ""
      ]
    },
    {
      "cell_type": "code",
      "execution_count": 13,
      "outputs": [],
      "metadata": {
        "jupyter": {
          "source_hidden": false,
          "outputs_hidden": false
        },
        "nteract": {
          "transient": {
            "deleting": false
          }
        }
      },
      "source": [
        "!pip install opendatasets\r\n",
        "import opendatasets as od"
      ]
    },
    {
      "cell_type": "code",
      "execution_count": 14,
      "outputs": [],
      "metadata": {
        "jupyter": {
          "source_hidden": false,
          "outputs_hidden": false
        },
        "nteract": {
          "transient": {
            "deleting": false
          }
        }
      },
      "source": [
        "import numpy as np\r\n",
        "import pandas as pd\r\n",
        "import seaborn as sns\r\n",
        "import matplotlib as pt\r\n",
        "import warnings\r\n",
        "warnings.filterwarnings(\"ignore\")"
      ]
    },
    {
      "cell_type": "code",
      "execution_count": 15,
      "outputs": [],
      "metadata": {
        "jupyter": {
          "source_hidden": false,
          "outputs_hidden": false
        },
        "nteract": {
          "transient": {
            "deleting": false
          }
        }
      },
      "source": [
        "import pandas as pd\r\n",
        "import os"
      ]
    },
    {
      "cell_type": "code",
      "execution_count": 16,
      "outputs": [],
      "metadata": {
        "jupyter": {
          "source_hidden": false,
          "outputs_hidden": false
        },
        "nteract": {
          "transient": {
            "deleting": false
          }
        }
      },
      "source": [
        "project_name = \"Global_Economy_Indicators\""
      ]
    },
    {
      "cell_type": "code",
      "execution_count": 17,
      "outputs": [],
      "metadata": {
        "jupyter": {
          "source_hidden": false,
          "outputs_hidden": false
        },
        "nteract": {
          "transient": {
            "deleting": false
          }
        }
      },
      "source": [
        "import seaborn as sns\r\n",
        "import matplotlib\r\n",
        "import matplotlib.pyplot as plt\r\n",
        "%matplotlib inline\r\n",
        "\r\n",
        "sns.set_style('darkgrid')\r\n",
        "matplotlib.rcParams['font.size'] = 14\r\n",
        "matplotlib.rcParams['figure.figsize'] = (9, 5)\r\n",
        "matplotlib.rcParams['figure.facecolor'] = '#00000000'"
      ]
    },
    {
      "cell_type": "markdown",
      "metadata": {
        "nteract": {
          "transient": {
            "deleting": false
          }
        }
      },
      "source": [
        "<mark>Calculate total exports of goods and services by each country using python matplotlib</mark>"
      ]
    },
    {
      "cell_type": "code",
      "execution_count": 18,
      "outputs": [],
      "metadata": {
        "jupyter": {
          "source_hidden": false,
          "outputs_hidden": false
        },
        "nteract": {
          "transient": {
            "deleting": false
          }
        }
      },
      "source": [
        "import pandas as pd\r\n",
        "import matplotlib.pyplot as plt\r\n",
        "\r\n",
        "def plot_total_exports(df, title=\"Total Exports of Goods and Services by Country\"):\r\n",
        "    \"\"\"Calculates and plots total exports using matplotlib.\r\n",
        "\r\n",
        "    Args:\r\n",
        "        df: Pandas DataFrame with 'Country' and 'Exports_of_goods_and_services' columns.\r\n",
        "        title: Title for the plot.\r\n",
        "\r\n",
        "    Returns:\r\n",
        "        None. Displays the plot.  Prints an error message and returns if the input is invalid.\r\n",
        "    \"\"\"\r\n",
        "\r\n",
        "    if not isinstance(df, pd.DataFrame):\r\n",
        "        print(\"Error: Input must be a Pandas DataFrame.\")\r\n",
        "        return\r\n",
        "\r\n",
        "    if 'Exports_of_goods_and_services' not in df.columns or 'Country' not in df.columns:\r\n",
        "        print(\"Error: DataFrame must contain 'Country' and 'Exports_of_goods_and_services' columns.\")\r\n",
        "        return\r\n",
        "\r\n",
        "    try:\r\n",
        "        total_exports = df.groupby('Country')['Exports_of_goods_and_services'].sum().reset_index()\r\n",
        "        total_exports = total_exports.sort_values('Exports_of_goods_and_services', ascending=False)\r\n",
        "\r\n",
        "        plt.figure(figsize=(12, 6))  # Adjust figure size for better readability\r\n",
        "        plt.bar(total_exports['Country'], total_exports['Exports_of_goods_and_services'])\r\n",
        "        plt.xlabel(\"Country\", fontsize=12)\r\n",
        "        plt.ylabel(\"Total Exports\", fontsize=12)\r\n",
        "        plt.title(title, fontsize=14)\r\n",
        "        plt.xticks(rotation=45, ha='right', fontsize=10)  # Rotate x-axis labels for readability\r\n",
        "        plt.tight_layout() # Adjust layout to prevent labels from overlapping\r\n",
        "        plt.show()\r\n",
        "\r\n",
        "    except Exception as e:\r\n",
        "        print(f\"An error occurred during calculation or plotting: {e}\")\r\n",
        "        return\r\n",
        "\r\n",
        "\r\n",
        "# Example usage (replace with your actual data loading):\r\n",
        "try:\r\n",
        "    df = pd.read_csv(\"your_data.csv\")  # Replace \"your_data.csv\" with your file path\r\n",
        "    plot_total_exports(df) # Call the function to plot the data\r\n",
        "\r\n",
        "    # Example with custom title:\r\n",
        "    plot_total_exports(df, title=\"Global Exports by Country (USD)\")\r\n",
        "\r\n",
        "\r\n",
        "except FileNotFoundError:\r\n",
        "    print(\"Error: CSV file not found. Please provide a valid file path.\")\r\n",
        "except Exception as e:\r\n",
        "    print(f\"An error occurred: {e}\")\r\n",
        "\r\n",
        "# Example with sample data (for testing):\r\n",
        "data = [\r\n",
        "    {'Country': 'USA', 'Exports_of_goods_and_services': 1000},\r\n",
        "    {'Country': 'Canada', 'Exports_of_goods_and_services': 500},\r\n",
        "    {'Country': 'USA', 'Exports_of_goods_and_services': 1200},\r\n",
        "    {'Country': 'Mexico', 'Exports_of_goods_and_services': 700},\r\n",
        "    {'Country': 'Japan', 'Exports_of_goods_and_services': 900},\r\n",
        "    {'Country': 'Germany', 'Exports_of_goods_and_services': 1100},\r\n",
        "    {'Country': 'UK', 'Exports_of_goods_and_services': 800},\r\n",
        "    {'Country': 'France', 'Exports_of_goods_and_services': 600},\r\n",
        "    {'Country': 'China', 'Exports_of_goods_and_services': 1300}\r\n",
        "]\r\n",
        "\r\n",
        "df_sample = pd.DataFrame(data)\r\n",
        "plot_total_exports(df_sample, title=\"Sample Exports Data\") # Plot the sample data\r\n",
        "\r\n",
        "\r\n",
        "# Example of error handling:\r\n",
        "empty_df = pd.DataFrame()\r\n",
        "plot_total_exports(empty_df)  # Will print error message\r\n",
        "\r\n",
        "invalid_df = pd.DataFrame({'Country': ['USA', 'Canada'], 'SomeOtherColumn': [1, 2]})\r\n",
        "plot_total_exports(invalid_df) # Will print error message\r\n",
        ""
      ]
    },
    {
      "cell_type": "markdown",
      "metadata": {
        "nteract": {
          "transient": {
            "deleting": false
          }
        }
      },
      "source": [
        "<mark>Show countries construction year using seaborn</mark>"
      ]
    },
    {
      "cell_type": "code",
      "execution_count": 19,
      "outputs": [],
      "metadata": {
        "jupyter": {
          "source_hidden": false,
          "outputs_hidden": false
        },
        "nteract": {
          "transient": {
            "deleting": false
          }
        }
      },
      "source": [
        "import pandas as pd\r\n",
        "import seaborn as sns\r\n",
        "import matplotlib.pyplot as plt\r\n",
        "\r\n",
        "def plot_construction_years(df, title=\"Construction Years by Country\"):\r\n",
        "    \"\"\"Plots construction years by country using Seaborn.\r\n",
        "\r\n",
        "    Args:\r\n",
        "        df: Pandas DataFrame with 'Country' and 'Construction_ISIC_F' columns.\r\n",
        "        title: Title for the plot.\r\n",
        "\r\n",
        "    Returns:\r\n",
        "        None. Displays the plot.  Prints an error message and returns if the input is invalid.\r\n",
        "    \"\"\"\r\n",
        "\r\n",
        "    if not isinstance(df, pd.DataFrame):\r\n",
        "        print(\"Error: Input must be a Pandas DataFrame.\")\r\n",
        "        return\r\n",
        "\r\n",
        "    if 'Construction_ISIC_F' not in df.columns or 'Country' not in df.columns:\r\n",
        "        print(\"Error: DataFrame must contain 'Country' and 'Construction_ISIC_F' columns.\")\r\n",
        "        return\r\n",
        "\r\n",
        "    try:\r\n",
        "        plt.figure(figsize=(12, 6))  # Adjust figure size as needed\r\n",
        "        sns.countplot(x='Country', data=df, hue='Construction_ISIC_F') # Use countplot for categorical data\r\n",
        "        plt.xlabel(\"Country\", fontsize=12)\r\n",
        "        plt.ylabel(\"Count\", fontsize=12)\r\n",
        "        plt.title(title, fontsize=14)\r\n",
        "        plt.xticks(rotation=45, ha='right', fontsize=10)\r\n",
        "        plt.tight_layout()\r\n",
        "        plt.show()\r\n",
        "\r\n",
        "    except Exception as e:\r\n",
        "        print(f\"An error occurred during plotting: {e}\")\r\n",
        "        return\r\n",
        "\r\n",
        "\r\n",
        "# Example usage (replace with your actual data loading):\r\n",
        "try:\r\n",
        "    df = pd.read_csv(\"your_data.csv\")  # Replace \"your_data.csv\" with your file path\r\n",
        "    plot_construction_years(df)\r\n",
        "\r\n",
        "    # Example with custom title:\r\n",
        "    plot_construction_years(df, title=\"Construction Activity by Country\")\r\n",
        "\r\n",
        "except FileNotFoundError:\r\n",
        "    print(\"Error: CSV file not found. Please provide a valid file path.\")\r\n",
        "except Exception as e:\r\n",
        "    print(f\"An error occurred: {e}\")\r\n",
        "\r\n",
        "\r\n",
        "# Example with sample data (for testing):\r\n",
        "data = [\r\n",
        "    {'Country': 'USA', 'Construction_ISIC_F': 2020},\r\n",
        "    {'Country': 'Canada', 'Construction_ISIC_F': 2020},\r\n",
        "    {'Country': 'USA', 'Construction_ISIC_F': 2021},\r\n",
        "    {'Country': 'Mexico', 'Construction_ISIC_F': 2020},\r\n",
        "    {'Country': 'USA', 'Construction_ISIC_F': 2022},\r\n",
        "    {'Country': 'Canada', 'Construction_ISIC_F': 2021},\r\n",
        "    {'Country': 'Mexico', 'Construction_ISIC_F': 2021},\r\n",
        "    {'Country': 'Japan', 'Construction_ISIC_F': 2022},\r\n",
        "    {'Country': 'Germany', 'Construction_ISIC_F': 2021},\r\n",
        "    {'Country': 'UK', 'Construction_ISIC_F': 2020},\r\n",
        "    {'Country': 'France', 'Construction_ISIC_F': 2022},\r\n",
        "    {'Country': 'China', 'Construction_ISIC_F': 2020}\r\n",
        "]\r\n",
        "\r\n",
        "df_sample = pd.DataFrame(data)\r\n",
        "plot_construction_years(df_sample, title=\"Sample Construction Data\")\r\n",
        "\r\n",
        "\r\n",
        "# Example of error handling:\r\n",
        "empty_df = pd.DataFrame()\r\n",
        "plot_construction_years(empty_df)  # Will print error message\r\n",
        "\r\n",
        "invalid_df = pd.DataFrame({'Country': ['USA', 'Canada'], 'SomeOtherColumn': [1, 2]})\r\n",
        "plot_construction_years(invalid_df) # Will print error message"
      ]
    },
    {
      "cell_type": "markdown",
      "metadata": {
        "nteract": {
          "transient": {
            "deleting": false
          }
        }
      },
      "source": [
        "<mark>Show Population growth for countries for last 50 years using linechart</mark>"
      ]
    },
    {
      "cell_type": "code",
      "execution_count": 20,
      "outputs": [],
      "metadata": {
        "jupyter": {
          "source_hidden": false,
          "outputs_hidden": false
        },
        "nteract": {
          "transient": {
            "deleting": false
          }
        }
      },
      "source": [
        "import pandas as pd\r\n",
        "import matplotlib.pyplot as plt\r\n",
        "\r\n",
        "# Sample Data (REPLACE THIS WITH YOUR ACTUAL DATA)\r\n",
        "data = {'Country': ['USA', 'Canada', 'UK', 'Germany', 'Japan'],\r\n",
        "        '1973': [210, 22, 56, 78, 108],  # Population in millions\r\n",
        "        '1983': [235, 25, 58, 80, 110],\r\n",
        "        '1993': [260, 28, 60, 82, 115],\r\n",
        "        '2003': [285, 32, 63, 83, 120],\r\n",
        "        '2013': [310, 35, 65, 84, 125],\r\n",
        "        '2023': [335, 38, 68, 83, 125]}\r\n",
        "df = pd.DataFrame(data).set_index('Country') # Set 'Country' as index\r\n",
        "\r\n",
        "# Transpose the DataFrame to have years as rows and countries as columns\r\n",
        "df_transposed = df.T\r\n",
        "\r\n",
        "# Plotting the line chart\r\n",
        "plt.figure(figsize=(12, 6))\r\n",
        "for country in df.index:\r\n",
        "    plt.plot(df_transposed.index, df_transposed[country], label=country)\r\n",
        "\r\n",
        "plt.xlabel('Year')\r\n",
        "plt.ylabel('Population (Millions)')\r\n",
        "plt.title('Population Growth Over 50 Years')\r\n",
        "plt.legend()\r\n",
        "plt.grid(True)\r\n",
        "plt.tight_layout()\r\n",
        "plt.show()\r\n",
        ""
      ]
    },
    {
      "cell_type": "markdown",
      "metadata": {
        "nteract": {
          "transient": {
            "deleting": false
          }
        }
      },
      "source": [
        "\r\n",
        "<mark>show country by gross national income in USD and imports goods and services for year 2020 using histogram </mark>\r\n",
        ""
      ]
    },
    {
      "cell_type": "markdown",
      "metadata": {
        "nteract": {
          "transient": {
            "deleting": false
          }
        }
      },
      "source": []
    },
    {
      "cell_type": "code",
      "execution_count": 21,
      "outputs": [],
      "metadata": {
        "jupyter": {
          "source_hidden": false,
          "outputs_hidden": false
        },
        "nteract": {
          "transient": {
            "deleting": false
          }
        }
      },
      "source": [
        "import pandas as pd\r\n",
        "import matplotlib.pyplot as plt\r\n",
        "import seaborn as sns  # For nicer plots\r\n",
        "\r\n",
        "# Sample Data (REPLACE THIS WITH YOUR ACTUAL DATA)\r\n",
        "data = {'Country': ['USA', 'Canada', 'UK', 'Germany', 'Japan', 'France', 'Australia', 'Brazil', 'India', 'China'],\r\n",
        "        'GNI': [65000, 50000, 45000, 52000, 48000, 47000, 55000, 15000, 2000, 12000],\r\n",
        "        'Imports': [25000, 18000, 20000, 22000, 19000, 17000, 21000, 8000, 1000, 5000]}\r\n",
        "df = pd.DataFrame(data)\r\n",
        "\r\n",
        "# 1. Scatter Plot (Recommended for two variables)\r\n",
        "plt.figure(figsize=(10, 6))  # Adjust figure size for better readability\r\n",
        "sns.scatterplot(x='GNI', y='Imports', data=df, hue='Country', s=50) # Hue adds color by country, s changes marker size\r\n",
        "plt.title('GNI vs. Imports (2020)')\r\n",
        "plt.xlabel('Gross National Income (USD)')\r\n",
        "plt.ylabel('Imports of Goods and Services (USD)')\r\n",
        "plt.grid(True)  # Add a grid for better visualization\r\n",
        "plt.tight_layout() # Adjust layout to prevent labels from overlapping\r\n",
        "#plt.legend(loc='upper left', bbox_to_anchor=(1,1)) # Place the legend outside the plot\r\n",
        "plt.show()\r\n",
        "\r\n",
        "# 2. 2D Histogram / Heatmap (Alternative for showing density)\r\n",
        "plt.figure(figsize=(10, 6))\r\n",
        "plt.hist2d(df['GNI'], df['Imports'], bins=(10,10), cmap='viridis') # Adjust bins for resolution\r\n",
        "plt.colorbar(label='Number of Countries')  # Add a colorbar\r\n",
        "plt.title('2D Histogram of GNI and Imports (2020)')\r\n",
        "plt.xlabel('Gross National Income (USD)')\r\n",
        "plt.ylabel('Imports of Goods and Services (USD)')\r\n",
        "plt.tight_layout()\r\n",
        "plt.show()\r\n",
        "\r\n",
        "\r\n",
        "# 3. Separate Histograms (If you want to look at distributions individually)\r\n",
        "plt.figure(figsize=(12, 5))\r\n",
        "\r\n",
        "plt.subplot(1, 2, 1) # 1 row, 2 columns, first plot\r\n",
        "sns.histplot(df['GNI'], kde=True) # KDE adds a Kernel Density Estimate\r\n",
        "plt.title('Distribution of GNI')\r\n",
        "\r\n",
        "plt.subplot(1, 2, 2) # 1 row, 2 columns, second plot\r\n",
        "sns.histplot(df['Imports'], kde=True)\r\n",
        "plt.title('Distribution of Imports')\r\n",
        "\r\n",
        "plt.tight_layout()\r\n",
        "plt.show()\r\n",
        "\r\n",
        ""
      ]
    },
    {
      "cell_type": "markdown",
      "metadata": {
        "nteract": {
          "transient": {
            "deleting": false
          }
        }
      },
      "source": [
        "<mark>Show max GDP for last 50 years per country using barchart</mark>"
      ]
    },
    {
      "cell_type": "code",
      "execution_count": 22,
      "outputs": [],
      "metadata": {
        "jupyter": {
          "source_hidden": false,
          "outputs_hidden": false
        },
        "nteract": {
          "transient": {
            "deleting": false
          }
        }
      },
      "source": [
        "import pandas as pd\r\n",
        "import matplotlib.pyplot as plt\r\n",
        "import seaborn as sns  # For nicer plots\r\n",
        "\r\n",
        "# Sample Data (REPLACE THIS WITH YOUR ACTUAL DATA)\r\n",
        "data = {'Country': ['USA', 'Canada', 'UK', 'Germany', 'Japan', 'France', 'Australia', 'Brazil', 'India', 'China'],\r\n",
        "        '1973': [10000, 4000, 5000, 6000, 7000, 5500, 4500, 2000, 800, 1500],\r\n",
        "        '1983': [12000, 4500, 5500, 7000, 8000, 6000, 5000, 2500, 1000, 2000],\r\n",
        "        '1993': [15000, 5000, 6000, 8000, 9000, 7000, 6000, 3000, 1200, 3000],\r\n",
        "        '2003': [18000, 6000, 7000, 9000, 10000, 8000, 7000, 4000, 1500, 5000],\r\n",
        "        '2013': [22000, 7000, 8000, 10000, 11000, 9000, 8000, 5000, 2000, 8000],\r\n",
        "        '2023': [25000, 8000, 9000, 11000, 12000, 10000, 9000, 6000, 2500, 12000]}\r\n",
        "df = pd.DataFrame(data).set_index('Country')\r\n",
        "\r\n",
        "# Find the maximum GDP for each country\r\n",
        "max_gdp = df.max(axis=1)\r\n",
        "\r\n",
        "# Plotting the bar chart\r\n",
        "plt.figure(figsize=(12, 6))\r\n",
        "sns.barplot(x=max_gdp.index, y=max_gdp.values)  # Use seaborn for better styling\r\n",
        "plt.xlabel('Country')\r\n",
        "plt.ylabel('Maximum GDP')\r\n",
        "plt.title('Maximum GDP per Country (Last 50 Years)')\r\n",
        "plt.xticks(rotation=45, ha='right')  # Rotate x-axis labels for readability if needed\r\n",
        "plt.tight_layout()\r\n",
        "plt.show()"
      ]
    }
  ]
}
